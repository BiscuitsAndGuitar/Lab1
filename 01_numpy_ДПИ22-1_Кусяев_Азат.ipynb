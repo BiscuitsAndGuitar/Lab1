{
 "cells": [
  {
   "cell_type": "markdown",
   "metadata": {},
   "source": [
    "## Лабораторная работа №1"
   ]
  },
  {
   "cell_type": "markdown",
   "metadata": {},
   "source": [
    "Замечание: при решении данных задач не подразумевается использования циклов или генераторов Python, если в задании не сказано обратного. Решение должно опираться на использования функционала библиотеки `numpy`."
   ]
  },
  {
   "cell_type": "code",
   "execution_count": 8,
   "metadata": {},
   "outputs": [],
   "source": [
    "import numpy as np"
   ]
  },
  {
   "cell_type": "markdown",
   "metadata": {},
   "source": [
    "1. Файл `minutes_n_ingredients.csv` содержит информацию об идентификаторе рецепта, времени его выполнения в минутах и количестве необходимых ингредиентов. Считайте данные из этого файла в виде массива `numpy` типа `int32`, используя `np.loadtxt`. Выведите на экран первые 5 строк массива."
   ]
  },
  {
   "cell_type": "code",
   "execution_count": 9,
   "metadata": {},
   "outputs": [
    {
     "name": "stdout",
     "output_type": "stream",
     "text": [
      "Первые 5 строк массива:\n",
      " [[127244     60     16]\n",
      " [ 23891     25      7]\n",
      " [ 94746     10      6]\n",
      " [ 67660      5      6]\n",
      " [157911     60     14]]\n"
     ]
    }
   ],
   "source": [
    "recipes = np.loadtxt('data/minutes_n_ingredients.csv', dtype=np.int32, delimiter=',', skiprows=1)\n",
    "print('Первые 5 строк массива:\\n', recipes[:5])"
   ]
  },
  {
   "cell_type": "markdown",
   "metadata": {},
   "source": [
    "2. Вычислите среднее значение, минимум, максимум и медиану по каждому из столбцов, кроме первого."
   ]
  },
  {
   "cell_type": "code",
   "execution_count": 10,
   "metadata": {},
   "outputs": [
    {
     "name": "stdout",
     "output_type": "stream",
     "text": [
      "Среднее значение во 2-м столбце: 21601.00169\n",
      "Среднее значение в 3-м столбце: 9.05528\n",
      "\n",
      "Максимум во 2-м столбце: 2147483647\n",
      "Максимум в 3-м столбце: 39\n",
      "\n",
      "Минимум во 2-м столбце: 0\n",
      "Минимум в 3-м столбце: 1\n",
      "\n",
      "Медиана во 2-м столбце: 40.0\n",
      "Медиана в 3-м столбце: 9.0\n"
     ]
    }
   ],
   "source": [
    "#Находим средние значения во 2-м и 3-м столбцах\n",
    "print(f'Среднее значение во 2-м столбце: {np.average(recipes[:, 1])}')\n",
    "print(f'Среднее значение в 3-м столбце: {np.average(recipes[:, 2])}\\n')\n",
    "#Находим максимумы во 2-м и 3-м столбцах\n",
    "print(f'Максимум во 2-м столбце: {np.max(recipes[:, 1])}')\n",
    "print(f'Максимум в 3-м столбце: {np.max(recipes[:, 2])}\\n')\n",
    "#Находим минимумы во 2-м и 3-м столбцах\n",
    "print(f'Минимум во 2-м столбце: {np.min(recipes[:, 1])}')\n",
    "print(f'Минимум в 3-м столбце: {np.min(recipes[:, 2])}\\n')\n",
    "#Находим медианы во 2-м и 3-м столбцах\n",
    "print(f'Медиана во 2-м столбце: {np.median(recipes[:, 1])}')\n",
    "print(f'Медиана в 3-м столбце: {np.median(recipes[:, 2])}')"
   ]
  },
  {
   "cell_type": "markdown",
   "metadata": {},
   "source": [
    "3. Ограничьте сверху значения продолжительности выполнения рецепта значением квантиля $q_{0.75}$. "
   ]
  },
  {
   "cell_type": "code",
   "execution_count": 11,
   "metadata": {},
   "outputs": [],
   "source": [
    "recipes[:, 1] = np.clip(recipes[:, 1], 0, np.quantile(recipes[:, 1], 0.75))"
   ]
  },
  {
   "cell_type": "markdown",
   "metadata": {},
   "source": [
    "4. Посчитайте, для скольких рецептов указана продолжительность, равная нулю. Замените для таких строк значение в данном столбце на 1."
   ]
  },
  {
   "cell_type": "code",
   "execution_count": 12,
   "metadata": {},
   "outputs": [
    {
     "name": "stdout",
     "output_type": "stream",
     "text": [
      "479\n"
     ]
    }
   ],
   "source": [
    "#Количество рецептов, продолжительность которых равна нулю\n",
    "print(np.count_nonzero(recipes[:, 1] == 0))\n",
    "#Заменяем нулевые значения на единицы\n",
    "i = recipes[:, 1] == 0\n",
    "recipes[:, 1][i] = 1"
   ]
  },
  {
   "cell_type": "markdown",
   "metadata": {},
   "source": [
    "5. Посчитайте, сколько уникальных рецептов находится в датасете."
   ]
  },
  {
   "cell_type": "code",
   "execution_count": 13,
   "metadata": {},
   "outputs": [
    {
     "name": "stdout",
     "output_type": "stream",
     "text": [
      "Количество уникальных рецептов: 100000\n"
     ]
    }
   ],
   "source": [
    "#Находим количество уникальных рецептов\n",
    "print(f'Количество уникальных рецептов: {len(np.unique(recipes, axis=0))}')"
   ]
  },
  {
   "cell_type": "markdown",
   "metadata": {},
   "source": [
    "6. Сколько и каких различных значений кол-ва ингредиентов присутвует в рецептах из датасета?"
   ]
  },
  {
   "cell_type": "code",
   "execution_count": 14,
   "metadata": {},
   "outputs": [
    {
     "name": "stdout",
     "output_type": "stream",
     "text": [
      "37\n",
      "[ 1  2  3  4  5  6  7  8  9 10 11 12 13 14 15 16 17 18 19 20 21 22 23 24\n",
      " 25 26 27 28 29 30 31 32 33 34 35 37 39]\n"
     ]
    }
   ],
   "source": [
    "#Определяем, сколько разных значений количества ингридиентов\n",
    "print(len(np.unique(recipes[:, 2])))\n",
    "#Сами значения\n",
    "print(np.unique(recipes[:, 2]))"
   ]
  },
  {
   "cell_type": "markdown",
   "metadata": {},
   "source": [
    "7. Создайте версию массива, содержащую информацию только о рецептах, состоящих не более чем из 5 ингредиентов."
   ]
  },
  {
   "cell_type": "code",
   "execution_count": 15,
   "metadata": {},
   "outputs": [
    {
     "name": "stdout",
     "output_type": "stream",
     "text": [
      "[[446597     15      5]\n",
      " [204134      5      3]\n",
      " [ 25623      6      4]\n",
      " ...\n",
      " [ 52088     60      5]\n",
      " [128811     15      4]\n",
      " [370915      5      4]]\n"
     ]
    }
   ],
   "source": [
    "#Массив из рецептов, состоящих не более чем из 5 ингредиентов.\n",
    "recipes_copy = recipes.copy()\n",
    "recipes_copy = recipes_copy[recipes_copy[:, 2] <= 5]\n",
    "print(recipes_copy)"
   ]
  },
  {
   "cell_type": "markdown",
   "metadata": {},
   "source": [
    "8. Для каждого рецепта посчитайте, сколько в среднем ингредиентов приходится на одну минуту рецепта. Найдите максимальное значение этой величины для всего датасета"
   ]
  },
  {
   "cell_type": "code",
   "execution_count": 16,
   "metadata": {},
   "outputs": [
    {
     "name": "stdout",
     "output_type": "stream",
     "text": [
      "24.0\n"
     ]
    }
   ],
   "source": [
    "#Ингридиенты в минуту для каждого рецепта\n",
    "ingridients_per_minute = recipes[:, 2] / recipes[:, 1]\n",
    "#Максимальное значение этого параметра:\n",
    "print(ingridients_per_minute.max())"
   ]
  },
  {
   "cell_type": "markdown",
   "metadata": {},
   "source": [
    "9. Вычислите среднее количество ингредиентов для топ-100 рецептов с наибольшей продолжительностью"
   ]
  },
  {
   "cell_type": "code",
   "execution_count": 17,
   "metadata": {},
   "outputs": [
    {
     "name": "stdout",
     "output_type": "stream",
     "text": [
      "9.96\n"
     ]
    }
   ],
   "source": [
    "#Сортируем рецепты по продолжительности\n",
    "recipes_copy_2 = recipes.copy()\n",
    "recipes_copy_2 = recipes_copy_2[recipes_copy_2[:, 1].argsort()]\n",
    "print(np.average(recipes_copy_2[-100:, 2]))"
   ]
  },
  {
   "cell_type": "markdown",
   "metadata": {},
   "source": [
    "10. Выберите случайным образом и выведите информацию о 10 различных рецептах"
   ]
  },
  {
   "cell_type": "code",
   "execution_count": 18,
   "metadata": {},
   "outputs": [
    {
     "name": "stdout",
     "output_type": "stream",
     "text": [
      "[[158243     20     12]\n",
      " [ 76472     65     19]\n",
      " [ 33962     35     12]\n",
      " [306239     13      6]\n",
      " [ 31775     10      6]\n",
      " [ 58707     65      9]\n",
      " [ 81212     65     14]\n",
      " [401507     65      8]\n",
      " [291038     15      8]\n",
      " [110965      8      6]]\n"
     ]
    }
   ],
   "source": [
    "#Выводим информацию о 10-ти случайных рецептах:\n",
    "indexes = np.random.choice(np.arange(0, len(recipes)), replace=False, size=10)\n",
    "print(recipes[indexes])"
   ]
  },
  {
   "cell_type": "markdown",
   "metadata": {},
   "source": [
    "11. Выведите процент рецептов, кол-во ингредиентов в которых меньше среднего."
   ]
  },
  {
   "cell_type": "code",
   "execution_count": 19,
   "metadata": {},
   "outputs": [
    {
     "name": "stdout",
     "output_type": "stream",
     "text": [
      "58.802\n"
     ]
    }
   ],
   "source": [
    "#Выводим процент рецептов, кол-во ингредиентов в которых меньше среднего\n",
    "print(np.count_nonzero(recipes[:, 2] < np.average(recipes[:, 2])) * 100 / len(recipes))"
   ]
  },
  {
   "cell_type": "markdown",
   "metadata": {},
   "source": [
    "12. Назовем \"простым\" такой рецепт, длительность выполнения которого не больше 20 минут и кол-во ингредиентов в котором не больше 5. Создайте версию датасета с дополнительным столбцом, значениями которого являются 1, если рецепт простой, и 0 в противном случае."
   ]
  },
  {
   "cell_type": "code",
   "execution_count": 20,
   "metadata": {},
   "outputs": [
    {
     "name": "stdout",
     "output_type": "stream",
     "text": [
      "[[127244     60     16      0]\n",
      " [ 23891     25      7      0]\n",
      " [ 94746     10      6      0]\n",
      " ...\n",
      " [498432     65     15      0]\n",
      " [370915      5      4      1]\n",
      " [ 81993     65     14      0]]\n"
     ]
    }
   ],
   "source": [
    "#Создаем версию датасета с дополнительным столбцом\n",
    "add_column = np.ones((len(recipes), 1), dtype=np.int32)\n",
    "add_column[recipes[:, 1] > 20] = 0\n",
    "add_column[recipes[:, 2] > 5] = 0\n",
    "new_dataset = np.hstack((recipes.copy(), add_column))\n",
    "print(new_dataset)"
   ]
  },
  {
   "cell_type": "markdown",
   "metadata": {},
   "source": [
    "13. Выведите процент \"простых\" рецептов в датасете"
   ]
  },
  {
   "cell_type": "code",
   "execution_count": 21,
   "metadata": {},
   "outputs": [
    {
     "name": "stdout",
     "output_type": "stream",
     "text": [
      "9.552\n"
     ]
    }
   ],
   "source": [
    "#Выводим процент простых рецептов\n",
    "print(np.count_nonzero(new_dataset[:, 3] == 1) * 100 / len(recipes))"
   ]
  },
  {
   "cell_type": "markdown",
   "metadata": {},
   "source": [
    "14. Разделим рецепты на группы по следующему правилу. Назовем рецепты короткими, если их продолжительность составляет менее 10 минут; стандартными, если их продолжительность составляет более 10, но менее 20 минут; и длинными, если их продолжительность составляет не менее 20 минут. Создайте трехмерный массив, где нулевая ось отвечает за номер группы (короткий, стандартный или длинный рецепт), первая ось - за сам рецепт и вторая ось - за характеристики рецепта. Выберите максимальное количество рецептов из каждой группы таким образом, чтобы было возможно сформировать трехмерный массив. Выведите форму полученного массива."
   ]
  },
  {
   "cell_type": "code",
   "execution_count": 22,
   "metadata": {},
   "outputs": [
    {
     "name": "stdout",
     "output_type": "stream",
     "text": [
      "[[[ 67660      5      6      0]\n",
      "  [366174      7      9      0]\n",
      "  [204134      5      3      1]\n",
      "  ...\n",
      "  [420725      5      3      1]\n",
      "  [  4747      1      9      0]\n",
      "  [370915      5      4      1]]\n",
      "\n",
      " [[ 94746     10      6      0]\n",
      "  [ 33941     18      9      0]\n",
      "  [446597     15      5      1]\n",
      "  ...\n",
      "  [331810     13     12      0]\n",
      "  [275677     15      8      0]\n",
      "  [282714     15      6      0]]\n",
      "\n",
      " [[127244     60     16      0]\n",
      "  [ 23891     25      7      0]\n",
      "  [157911     60     14      0]\n",
      "  ...\n",
      "  [ 24549     65      6      0]\n",
      "  [449468     50     11      0]\n",
      "  [ 28830     65     13      0]]]\n"
     ]
    }
   ],
   "source": [
    "#Разбиваем рецепты на группы\n",
    "quick_recipes = new_dataset[new_dataset[:, 1] < 10]\n",
    "standart_recipes = new_dataset[(new_dataset[:, 1] >= 10) & (new_dataset[:, 1] <= 20)]\n",
    "long_recipes = new_dataset[new_dataset[:, 1] > 20]\n",
    "rows = min(len(quick_recipes), len(standart_recipes), len(long_recipes))\n",
    "dataset_3_d = np.concatenate(((quick_recipes[:rows]), standart_recipes[:rows], long_recipes[:rows]), axis=0).reshape(3, rows, 4)\n",
    "print(dataset_3_d)"
   ]
  },
  {
   "cell_type": "code",
   "execution_count": null,
   "metadata": {},
   "outputs": [],
   "source": []
  }
 ],
 "metadata": {
  "kernelspec": {
   "display_name": "Python 3 (ipykernel)",
   "language": "python",
   "name": "python3"
  },
  "language_info": {
   "codemirror_mode": {
    "name": "ipython",
    "version": 3
   },
   "file_extension": ".py",
   "mimetype": "text/x-python",
   "name": "python",
   "nbconvert_exporter": "python",
   "pygments_lexer": "ipython3",
   "version": "3.11.0"
  }
 },
 "nbformat": 4,
 "nbformat_minor": 4
}
